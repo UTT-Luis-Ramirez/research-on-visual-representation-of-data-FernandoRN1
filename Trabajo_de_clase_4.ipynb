{
  "nbformat": 4,
  "nbformat_minor": 0,
  "metadata": {
    "colab": {
      "provenance": []
    },
    "kernelspec": {
      "name": "python3",
      "display_name": "Python 3"
    },
    "language_info": {
      "name": "python"
    }
  },
  "cells": [
    {
      "cell_type": "markdown",
      "source": [
        "#**Diferentes tipos de graficos**\n",
        "\n",
        "---\n",
        "\n"
      ],
      "metadata": {
        "id": "F2WWDUXOBoXr"
      }
    },
    {
      "cell_type": "markdown",
      "source": [
        "#**Histograma**\n",
        "\n",
        "---\n",
        "\n"
      ],
      "metadata": {
        "id": "xDhhormPBwwA"
      }
    },
    {
      "cell_type": "markdown",
      "source": [
        "**¿Qué es?**\n",
        "<br>\n",
        "\n",
        "Un histograma es un gráfico de barras que muestra la distribución de un conjunto de datos continuos o discretos. Cada barra representa la frecuencia (o la cantidad) de valores que caen dentro de un rango determinado, llamado intervalo de clase.\n",
        "\n",
        "<br>\n",
        "\n",
        "**-¿Cómo se crea?**\n",
        "<br>\n",
        "\n",
        "**-Recolectar los datos:** Es necesario tener un conjunto de datos numéricos.\n",
        "<br>\n",
        "\n",
        "**-Determinar los intervalos:** Se dividen los datos en intervalos de clases. Estos intervalos son rangos de valores, y el número de intervalos depende del tamaño del conjunto de datos.\n",
        "<br>\n",
        "\n",
        "**-Contar las frecuencias:** Se cuentan cuántos valores caen dentro de cada intervalo.\n",
        "<br>\n",
        "\n",
        "**-Dibujar las barras:** Se dibujan barras para cada intervalo. La altura de la barra indica la frecuencia de los valores dentro de ese intervalo.\n",
        "\n",
        "<br>\n",
        "\n",
        "**¿Para qué sirve?**\n",
        "<br>\n",
        "El histograma ayuda a visualizar la distribución de los datos y es útil para detectar patrones, como la forma de la distribución (si es normal, sesgada, etc.), detectar posibles valores atípicos y comparar diferentes conjuntos de datos.\n",
        "\n",
        "<br>\n",
        "\n",
        "**Contexto de uso**\n",
        "<br>\n",
        "Se utiliza en análisis estadísticos, estudios de probabilidad, investigación de datos y análisis de tendencias en cualquier disciplina que trabaje con datos cuantitativos."
      ],
      "metadata": {
        "id": "6XvDdiJbB4xh"
      }
    },
    {
      "cell_type": "markdown",
      "source": [
        "#**Ejemplo de Histograma**\n",
        "\n",
        "---\n",
        "\n"
      ],
      "metadata": {
        "id": "2m1msOU_DvO6"
      }
    },
    {
      "cell_type": "code",
      "source": [
        "# Importar las librerías necesarias\n",
        "import numpy as np\n",
        "import matplotlib.pyplot as plt\n",
        "\n",
        "# Generar datos aleatorios (por ejemplo, una distribución normal)\n",
        "data = np.random.randn(1000)\n",
        "\n",
        "# Crear el histograma\n",
        "plt.figure(figsize=(8, 6))\n",
        "plt.hist(data, bins=30, edgecolor='black')\n",
        "plt.title('Histograma de Datos')\n",
        "plt.xlabel('Valor')\n",
        "plt.ylabel('Frecuencia')\n",
        "plt.show()\n"
      ],
      "metadata": {
        "colab": {
          "base_uri": "https://localhost:8080/",
          "height": 564
        },
        "id": "3e-J_l2kDnxQ",
        "outputId": "5899eded-fc15-4c80-d137-20d79b63f02e"
      },
      "execution_count": 1,
      "outputs": [
        {
          "output_type": "display_data",
          "data": {
            "text/plain": [
              "<Figure size 800x600 with 1 Axes>"
            ],
            "image/png": "[encoded data removed]"
          },
          "metadata": {}
        }
      ]
    },
    {
      "cell_type": "markdown",
      "source": [
        "#**Diagramma de tallo y hoja**\n",
        "\n",
        "---\n",
        "\n"
      ],
      "metadata": {
        "id": "rAKYyQQaD7n4"
      }
    },
    {
      "cell_type": "markdown",
      "source": [
        "**¿Qué es?**\n",
        "<br>\n",
        "El diagrama de tallo y hojas es una herramienta gráfica que organiza los datos numéricos de una manera que muestra su distribución, y a la vez, mantiene la información original de los valores. Es una representación gráfica simple que muestra la frecuencia de los valores.\n",
        "\n",
        "<br>\n",
        "\n",
        "**¿Cómo se crea?**\n",
        "<br>\n",
        "**-Ordenar los datos:** Se ordenan los datos de menor a mayor.\n",
        "<br>\n",
        "\n",
        "**-Dividir los datos en “tallos” y “hojas”:** Los “tallos” representan las cifras de mayor valor (como las decenas o centenas), y las “hojas” representan las cifras de menor valor (como las unidades o decimales).\n",
        "<br>\n",
        "\n",
        "**-Dibujar el diagrama:** Se coloca cada valor dentro de su categoría correspondiente de “tallo” y “hoja”. Por ejemplo, si un valor es 47, el \"tallo\" sería 4 (decenas) y la \"hoja\" sería 7 (unidades).\n",
        "\n",
        "<br>\n",
        "\n",
        "**¿Para qué sirve?**\n",
        "<br>\n",
        "El diagrama de tallo y hojas es útil para organizar los datos de forma clara, permitiendo ver su distribución, tendencias y valores centrales, sin perder detalle de los valores individuales.\n",
        "\n",
        "<br>\n",
        "\n",
        "**Contexto de uso**\n",
        "<br>\n",
        "Es comúnmente utilizado en análisis preliminares de datos estadísticos, especialmente cuando se trabaja con pequeños conjuntos de datos. Es una herramienta simple que se usa en educación y estadística descriptiva.\n",
        "\n"
      ],
      "metadata": {
        "id": "cXXYshf-EUCQ"
      }
    },
    {
      "cell_type": "markdown",
      "source": [
        "#**Ejemplo de Diagramma de tallo y hoja**\n",
        "\n",
        "---\n",
        "\n"
      ],
      "metadata": {
        "id": "XJILB_DQFO3j"
      }
    },
    {
      "cell_type": "code",
      "source": [
        "# Importar la librería necesaria\n",
        "import matplotlib.pyplot as plt\n",
        "import seaborn as sns\n",
        "\n",
        "# Crear datos de ejemplo\n",
        "data = [12, 23, 36, 45, 50, 55, 58, 60, 62, 63, 70, 72, 75, 80, 90, 91, 95, 100]\n",
        "\n",
        "# Usamos Seaborn para crear un diagrama de tallo y hoja\n",
        "sns.boxplot(data)\n",
        "plt.title('Diagrama de Tallo y Hoja (Boxplot)')\n",
        "plt.show()\n"
      ],
      "metadata": {
        "colab": {
          "base_uri": "https://localhost:8080/",
          "height": 433
        },
        "id": "buTUxKlbFfGe",
        "outputId": "df31598f-8a62-4664-d43c-e138f535bbca"
      },
      "execution_count": 2,
      "outputs": [
        {
          "output_type": "display_data",
          "data": {
            "text/plain": [
              "<Figure size 640x480 with 1 Axes>"
            ],
            "image/png": "[encoded data removed]"
          },
          "metadata": {}
        }
      ]
    },
    {
      "cell_type": "markdown",
      "source": [
        "#**Diagrama de caja**\n",
        "\n",
        "---\n",
        "\n"
      ],
      "metadata": {
        "id": "SLucKGoPFm17"
      }
    },
    {
      "cell_type": "markdown",
      "source": [
        "**¿Qué es?**\n",
        "<br>\n",
        "El diagrama de caja es una herramienta gráfica que resume un conjunto de datos numéricos mediante cinco números clave: el mínimo, el primer cuartil (Q1), la mediana (Q2), el tercer cuartil (Q3) y el máximo. A veces también se marcan los valores atípicos.\n",
        "\n",
        "<br>\n",
        "\n",
        "**¿Cómo se crea?**\n",
        "<br>\n",
        "**1-Calcular los valores clave:**\n",
        "<br>\n",
        "-Mínimo: El valor más bajo.\n",
        "<br>\n",
        "-Primer cuartil (Q1): El valor que marca el 25% inferior de los datos.\n",
        "<br>\n",
        "-Mediana (Q2): El valor medio.\n",
        "<br>\n",
        "-Tercer cuartil (Q3): El valor que marca el 75% inferior de los datos.\n",
        "<br>\n",
        "-Máximo: El valor más alto.\n",
        "\n",
        "<br>\n",
        "\n",
        "**2-Dibujar la caja:** Se dibuja una caja entre Q1 y Q3, y una línea dentro de la caja para la mediana.\n",
        "<br>\n",
        "\n",
        "**3-Agregar los bigotes:** Los bigotes se extienden desde los cuartiles hasta el valor máximo y mínimo que no son atípicos.\n",
        "<br>\n",
        "\n",
        "**4-Marcar los valores atípicos:** Los puntos que están fuera de los bigotes son considerados valores atípicos.\n",
        "\n",
        "<br>\n",
        "\n",
        "**¿Para qué sirve?**\n",
        "<br>\n",
        "El diagrama de caja es útil para visualizar la dispersión de los datos, identificar valores atípicos y comparar diferentes conjuntos de datos. También es útil para detectar la simetría o asimetría en la distribución.\n",
        "\n",
        "<br>\n",
        "\n",
        "**Contexto de uso**\n",
        "<br>\n",
        "Se utiliza frecuentemente en análisis estadísticos de datos distribuidos, especialmente en comparación de grupos, y es común en el análisis exploratorio de datos, en estudios de investigación científica, economía, y ciencias sociales."
      ],
      "metadata": {
        "id": "W-Knlsr6Fzo2"
      }
    },
    {
      "cell_type": "markdown",
      "source": [
        "#**Ejemplo de Diagrama de caja**\n",
        "\n",
        "---\n",
        "\n"
      ],
      "metadata": {
        "id": "g7KqvDxTHVDl"
      }
    },
    {
      "cell_type": "code",
      "source": [
        "# Importar la librería necesaria\n",
        "import seaborn as sns\n",
        "import matplotlib.pyplot as plt\n",
        "\n",
        "# Crear datos de ejemplo\n",
        "data = np.random.normal(loc=0, scale=1, size=100)  # Distribución normal\n",
        "\n",
        "# Crear un Boxplot\n",
        "plt.figure(figsize=(8, 6))\n",
        "sns.boxplot(data=data)\n",
        "plt.title('Diagrama de Caja')\n",
        "plt.show()\n"
      ],
      "metadata": {
        "colab": {
          "base_uri": "https://localhost:8080/",
          "height": 526
        },
        "id": "pcWu4a9HHdjK",
        "outputId": "68858b4d-3c0d-4ca0-8601-9f8459f68cdb"
      },
      "execution_count": 3,
      "outputs": [
        {
          "output_type": "display_data",
          "data": {
            "text/plain": [
              "<Figure size 800x600 with 1 Axes>"
            ],
            "image/png": "[encoded data removed]"
          },
          "metadata": {}
        }
      ]
    },
    {
      "cell_type": "markdown",
      "source": [
        "#**Diagrama de Puntos**\n",
        "\n",
        "---\n",
        "\n"
      ],
      "metadata": {
        "id": "Dj_OWTAMIT69"
      }
    },
    {
      "cell_type": "markdown",
      "source": [
        "**¿Qué es?**\n",
        "<br>\n",
        "El diagrama de puntos es un gráfico en el que cada punto representa un valor de un conjunto de datos y se coloca en una línea, generalmente en el eje X. Es muy útil para conjuntos de datos pequeños y proporciona una visualización directa de cada punto de datos.\n",
        "\n",
        "<br>\n",
        "\n",
        "**¿Cómo se crea?**\n",
        "<br>\n",
        "**-Reunir los datos:** Debes tener un conjunto de datos discretos.\n",
        "<br>\n",
        "\n",
        "**-Colocar los puntos:** Los valores se representan como puntos a lo largo del eje horizontal (X).\n",
        "<br>\n",
        "\n",
        "**-Usar un gráfico de dispersión o de puntos:** Se pueden apilar los puntos si hay valores repetidos.\n",
        "\n",
        "<br>\n",
        "\n",
        "**¿Para qué sirve?**\n",
        "<br>\n",
        "**-Visualización precisa:** Ayuda a ver la distribución de datos y la frecuencia de valores repetidos.\n",
        "<br>\n",
        "\n",
        "**-Datos pequeños:** Es útil cuando tienes un conjunto pequeño de datos y necesitas una representación simple y clara.\n",
        "\n",
        "<br>\n",
        "\n",
        "**Contexto de uso**\n",
        "Usado cuando se tienen pequeños conjuntos de datos y es necesario ver la distribución exacta de los valores."
      ],
      "metadata": {
        "id": "Gmj9dlyuIXDH"
      }
    },
    {
      "cell_type": "markdown",
      "source": [
        "#**Ejemplo de Diagrama de Puntos**\n",
        "\n",
        "---\n",
        "\n"
      ],
      "metadata": {
        "id": "IIfkxPJkJKdQ"
      }
    },
    {
      "cell_type": "code",
      "source": [
        "# Importar las librerías necesarias\n",
        "import matplotlib.pyplot as plt\n",
        "import numpy as np\n",
        "\n",
        "# Crear datos de ejemplo\n",
        "data = [12, 15, 20, 20, 22, 25, 30, 30, 35, 40, 45, 50]\n",
        "\n",
        "# Crear el diagrama de puntos\n",
        "plt.figure(figsize=(8, 6))\n",
        "plt.plot(data, [1]*len(data), 'bo', markersize=10)  # 'bo' significa puntos azules\n",
        "plt.yticks([])  # Quitar etiquetas en el eje Y\n",
        "plt.title('Diagrama de Puntos')\n",
        "plt.xlabel('Valores')\n",
        "plt.show()\n"
      ],
      "metadata": {
        "colab": {
          "base_uri": "https://localhost:8080/",
          "height": 564
        },
        "id": "VdtP6BPeJRr_",
        "outputId": "08e22aa6-fed9-4e0e-d5d8-948b7b6d8402"
      },
      "execution_count": 4,
      "outputs": [
        {
          "output_type": "display_data",
          "data": {
            "text/plain": [
              "<Figure size 800x600 with 1 Axes>"
            ],
            "image/png": "[encoded data removed]"
          },
          "metadata": {}
        }
      ]
    }
  ]
}